{
 "cells": [
  {
   "cell_type": "code",
   "execution_count": 1,
   "metadata": {},
   "outputs": [],
   "source": [
    "import cv2\n",
    "import numpy as np\n",
    "import math\n",
    "import os\n",
    "from PIL import Image, ImageFont, ImageDraw\n",
    "import matplotlib.pyplot as plt\n",
    "%matplotlib inline\n",
    "np.set_printoptions(suppress=True)\n",
    "import time\n",
    "import subprocess"
   ]
  },
  {
   "cell_type": "code",
   "execution_count": 2,
   "metadata": {
    "scrolled": false
   },
   "outputs": [
    {
     "name": "stderr",
     "output_type": "stream",
     "text": [
      "Using TensorFlow backend.\n",
      "WARNING: Logging before flag parsing goes to stderr.\n",
      "W0506 09:32:04.189337   416 module_wrapper.py:139] From C:\\Users\\Hurtik\\python-petr\\yolov4\\tpami_paper\\cityscapes\\nr_of_anchors\\yolo_3_anchors.py:40: The name tf.logging.set_verbosity is deprecated. Please use tf.compat.v1.logging.set_verbosity instead.\n",
      "\n",
      "W0506 09:32:04.190336   416 module_wrapper.py:139] From C:\\Users\\Hurtik\\Anaconda3\\lib\\site-packages\\keras\\backend\\tensorflow_backend.py:190: The name tf.get_default_session is deprecated. Please use tf.compat.v1.get_default_session instead.\n",
      "\n",
      "W0506 09:32:04.191312   416 module_wrapper.py:139] From C:\\Users\\Hurtik\\Anaconda3\\lib\\site-packages\\keras\\backend\\tensorflow_backend.py:197: The name tf.ConfigProto is deprecated. Please use tf.compat.v1.ConfigProto instead.\n",
      "\n",
      "W0506 09:32:04.191312   416 module_wrapper.py:139] From C:\\Users\\Hurtik\\Anaconda3\\lib\\site-packages\\keras\\backend\\tensorflow_backend.py:203: The name tf.Session is deprecated. Please use tf.compat.v1.Session instead.\n",
      "\n",
      "W0506 09:32:05.016338   416 module_wrapper.py:139] From C:\\Users\\Hurtik\\Anaconda3\\lib\\site-packages\\keras\\backend\\tensorflow_backend.py:207: The name tf.global_variables is deprecated. Please use tf.compat.v1.global_variables instead.\n",
      "\n",
      "W0506 09:32:05.018337   416 module_wrapper.py:139] From C:\\Users\\Hurtik\\Anaconda3\\lib\\site-packages\\keras\\backend\\tensorflow_backend.py:66: The name tf.get_default_graph is deprecated. Please use tf.compat.v1.get_default_graph instead.\n",
      "\n",
      "W0506 09:32:05.018337   416 module_wrapper.py:139] From C:\\Users\\Hurtik\\Anaconda3\\lib\\site-packages\\keras\\backend\\tensorflow_backend.py:541: The name tf.placeholder is deprecated. Please use tf.compat.v1.placeholder instead.\n",
      "\n",
      "W0506 09:32:05.021329   416 module_wrapper.py:139] From C:\\Users\\Hurtik\\Anaconda3\\lib\\site-packages\\keras\\backend\\tensorflow_backend.py:4432: The name tf.random_uniform is deprecated. Please use tf.random.uniform instead.\n",
      "\n",
      "W0506 09:32:05.034337   416 module_wrapper.py:139] From C:\\Users\\Hurtik\\Anaconda3\\lib\\site-packages\\keras\\backend\\tensorflow_backend.py:216: The name tf.is_variable_initialized is deprecated. Please use tf.compat.v1.is_variable_initialized instead.\n",
      "\n",
      "W0506 09:32:05.352826   416 module_wrapper.py:139] From C:\\Users\\Hurtik\\Anaconda3\\lib\\site-packages\\keras\\backend\\tensorflow_backend.py:223: The name tf.variables_initializer is deprecated. Please use tf.compat.v1.variables_initializer instead.\n",
      "\n",
      "W0506 09:32:05.361799   416 module_wrapper.py:139] From C:\\Users\\Hurtik\\Anaconda3\\lib\\site-packages\\keras\\backend\\tensorflow_backend.py:2041: The name tf.nn.fused_batch_norm is deprecated. Please use tf.compat.v1.nn.fused_batch_norm instead.\n",
      "\n",
      "W0506 09:32:05.387829   416 module_wrapper.py:139] From C:\\Users\\Hurtik\\Anaconda3\\lib\\site-packages\\keras\\backend\\tensorflow_backend.py:148: The name tf.placeholder_with_default is deprecated. Please use tf.compat.v1.placeholder_with_default instead.\n",
      "\n",
      "W0506 09:32:05.519827   416 module_wrapper.py:139] From C:\\Users\\Hurtik\\Anaconda3\\lib\\site-packages\\keras\\backend\\tensorflow_backend.py:4479: The name tf.truncated_normal is deprecated. Please use tf.random.truncated_normal instead.\n",
      "\n",
      "W0506 09:32:08.485826   416 module_wrapper.py:139] From C:\\Users\\Hurtik\\Anaconda3\\lib\\site-packages\\keras\\backend\\tensorflow_backend.py:2241: The name tf.image.resize_bilinear is deprecated. Please use tf.compat.v1.image.resize_bilinear instead.\n",
      "\n",
      "W0506 09:32:10.836503   416 deprecation.py:323] From C:\\Users\\Hurtik\\Anaconda3\\lib\\site-packages\\tensorflow_core\\python\\ops\\array_ops.py:1475: where (from tensorflow.python.ops.array_ops) is deprecated and will be removed in a future version.\n",
      "Instructions for updating:\n",
      "Use tf.where in 2.0, which has the same broadcast rule as np.where\n"
     ]
    },
    {
     "name": "stdout",
     "output_type": "stream",
     "text": [
      "D:/data-shared/tpami_paper/cityscapes/nr_of_anchors/detector/3_anchors_143814.h5 model, anchors, and classes loaded.\n"
     ]
    }
   ],
   "source": [
    "import yolo_3_anchors as yolo\n",
    "chleba = yolo.YOLO(model_path='D:/data-shared/tpami_paper/cityscapes/nr_of_anchors/detector/3_anchors_143814.h5')\n",
    "file = open('inference_nr_of_anchors_3.txt', \"w\")"
   ]
  },
  {
   "cell_type": "code",
   "execution_count": 3,
   "metadata": {},
   "outputs": [
    {
     "name": "stdout",
     "output_type": "stream",
     "text": [
      "total boxes:  1027\n",
      "imgs:  99\n",
      "fps:  7.146077495571263\n"
     ]
    }
   ],
   "source": [
    "with open('cityscapes-val-small.txt') as f:\n",
    "    lines = f.readlines()\n",
    "\n",
    "\n",
    "total_boxes = 0\n",
    "imgs = 0\n",
    "start = time.time()\n",
    "\n",
    "for im in range (1, len(lines), 1):\n",
    "    imgs += 1\n",
    "    aaa = lines[im].split()\n",
    "    img   = Image.open(aaa[0])\n",
    "    \n",
    "    boxes   = []\n",
    "    scores  = []\n",
    "    classes = []\n",
    "    box, score, classs, polygons = chleba.detect_image(img)\n",
    "    \n",
    "    \n",
    "    for k in range (0, len(box)):\n",
    "        boxes.append((box[k][1], box[k][0], box[k][3], box[k][2]))\n",
    "        scores.append(score[k])\n",
    "        classes.append(classs[k])\n",
    "        \n",
    "    \n",
    "    total_boxes += len(boxes)\n",
    "    if len(boxes)==0:\n",
    "        continue\n",
    "    \n",
    "    file.write(aaa[0]+\" \") \n",
    "    for b in range(0, len(boxes)):\n",
    "        str_to_write = ''\n",
    "        \n",
    "        str_to_write += str(float(boxes[b][0]))+\",\"+str(float(boxes[b][1]))+\",\"+str(float(boxes[b][2]))+\",\"+str(float(boxes[b][3]))+\",\"\n",
    "        str_to_write += str(scores[b])+\",\"\n",
    "        str_to_write += str(int(classes[b]))\n",
    "        \n",
    "        offset      = len(polygons[b])//3 # 72 for 24 vertexes. offset = 24\n",
    "        vertices    = 0\n",
    "        for dst in range(0, len(polygons[b])//3): # 下取整\n",
    "            if polygons[b][dst+offset*2] > 0.2:\n",
    "                str_to_write += \",\"+str(float(polygons[b][dst]))+\",\"+str(float(polygons[b][dst+offset]))\n",
    "                vertices+=1\n",
    "        str_to_write +=  \" \"\n",
    "        if vertices < 3:\n",
    "            print('found not correct polygon with ', vertices, ' vertices')\n",
    "            continue\n",
    "        file.write(str_to_write)\n",
    "        \n",
    "    file.write(\"\\n\")    \n",
    "    \n",
    "file.close()    \n",
    "print('total boxes: ', total_boxes)\n",
    "print('imgs: ', imgs)\n",
    "end = time.time()\n",
    "print('fps: ', imgs/(end - start))"
   ]
  }
 ],
 "metadata": {
  "accelerator": "GPU",
  "colab": {
   "collapsed_sections": [],
   "name": "yolo-v4.ipynb",
   "provenance": [],
   "version": "0.3.2"
  },
  "kernelspec": {
   "display_name": "Python 3",
   "language": "python",
   "name": "python3"
  },
  "language_info": {
   "codemirror_mode": {
    "name": "ipython",
    "version": 3
   },
   "file_extension": ".py",
   "mimetype": "text/x-python",
   "name": "python",
   "nbconvert_exporter": "python",
   "pygments_lexer": "ipython3",
   "version": "3.7.3"
  }
 },
 "nbformat": 4,
 "nbformat_minor": 1
}